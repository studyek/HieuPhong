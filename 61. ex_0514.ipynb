{
 "cells": [
  {
   "cell_type": "markdown",
   "metadata": {},
   "source": [
    "## Coding Exercise #0514"
   ]
  },
  {
   "cell_type": "markdown",
   "metadata": {},
   "source": [
    "#### 1. Document classification with LSTM network:"
   ]
  },
  {
   "cell_type": "code",
   "execution_count": 1,
   "metadata": {},
   "outputs": [],
   "source": [
    "import pandas as pd\n",
    "import numpy as np\n",
    "import warnings    \n",
    "import matplotlib.pyplot as plt\n",
    "from sklearn.model_selection import train_test_split\n",
    "from tensorflow.keras.datasets.reuters import load_data, get_word_index       # Reuters news data. \n",
    "from tensorflow.keras.models import Sequential\n",
    "from tensorflow.keras.layers import Dense, SimpleRNN, LSTM, Embedding\n",
    "from tensorflow.keras.utils import to_categorical\n",
    "from tensorflow.keras.preprocessing import sequence\n",
    "from tensorflow.keras.optimizers import Adam, RMSprop, SGD\n",
    "warnings.filterwarnings('ignore')                  # Turn the warnings off.\n",
    "%matplotlib inline"
   ]
  },
  {
   "cell_type": "markdown",
   "metadata": {},
   "source": [
    "#### 1.1. Read in the data:"
   ]
  },
  {
   "cell_type": "code",
   "execution_count": 2,
   "metadata": {},
   "outputs": [],
   "source": [
    "n_words = 1000                                        # Size of the vocabulary.\n",
    "(X_train, y_train), (X_test, y_test) = load_data(num_words = n_words, test_split = 0.3)\n",
    "n_train_size = X_train.shape[0]"
   ]
  },
  {
   "cell_type": "code",
   "execution_count": 3,
   "metadata": {},
   "outputs": [
    {
     "name": "stdout",
     "output_type": "stream",
     "text": [
      "--------------------------------------------------\n",
      "Training data X shape: (7859,)\n",
      "Training data y shape: (7859,)\n",
      "--------------------------------------------------\n",
      "Test data X shape: (3369,)\n",
      "Test data y shape: (3369,)\n",
      "--------------------------------------------------\n"
     ]
    }
   ],
   "source": [
    "# Check for the shapes.\n",
    "print(\"-\"*50)\n",
    "print(\"Training data X shape: {}\".format(X_train.shape))\n",
    "print(\"Training data y shape: {}\".format(y_train.shape))\n",
    "print(\"-\"*50)\n",
    "print(\"Test data X shape: {}\".format(X_test.shape))\n",
    "print(\"Test data y shape: {}\".format(y_test.shape))\n",
    "print(\"-\"*50)"
   ]
  },
  {
   "cell_type": "markdown",
   "metadata": {},
   "source": [
    "#### 1.2. Explore the data:"
   ]
  },
  {
   "cell_type": "code",
   "execution_count": 4,
   "metadata": {},
   "outputs": [
    {
     "data": {
      "text/plain": [
       "46"
      ]
     },
     "execution_count": 4,
     "metadata": {},
     "output_type": "execute_result"
    }
   ],
   "source": [
    "# Number of unique values of y = Number of categories of the newswires.\n",
    "n_cat = pd.Series(y_train).nunique()\n",
    "n_cat"
   ]
  },
  {
   "cell_type": "code",
   "execution_count": 5,
   "metadata": {},
   "outputs": [
    {
     "name": "stdout",
     "output_type": "stream",
     "text": [
      "[1, 2, 2, 8, 43, 10, 447, 5, 25, 207, 270, 5, 2, 111, 16, 369, 186, 90, 67, 7, 89, 5, 19, 102, 6, 19, 124, 15, 90, 67, 84, 22, 482, 26, 7, 48, 4, 49, 8, 864, 39, 209, 154, 6, 151, 6, 83, 11, 15, 22, 155, 11, 15, 7, 48, 9, 2, 2, 504, 6, 258, 6, 272, 11, 15, 22, 134, 44, 11, 15, 16, 8, 197, 2, 90, 67, 52, 29, 209, 30, 32, 132, 6, 109, 15, 17, 12]\n"
     ]
    }
   ],
   "source": [
    "# Print out an observation (document) contained in X.\n",
    "# It is encoded as integers (indices).\n",
    "print(X_train[0])"
   ]
  },
  {
   "cell_type": "code",
   "execution_count": 6,
   "metadata": {},
   "outputs": [
    {
     "name": "stdout",
     "output_type": "stream",
     "text": [
      "[87, 56, 139, 224, 101, 116, 100, 100, 82, 106, 31, 59, 65, 316, 527, 76, 114, 17, 91, 77, 231, 108, 83, 29, 95, 110, 23, 373, 114, 354, 133, 222, 571, 155, 83, 208, 170, 269, 74, 19, 23, 78, 21, 377, 104, 299, 89, 56, 94, 139, 118, 36, 137, 107, 83, 66, 70, 112, 88, 51, 83, 123, 17, 185, 84, 52, 102, 73, 106, 486, 107, 82, 263, 172, 491, 190, 143, 62, 26, 88, 114, 38, 85, 112, 793, 104, 25, 21, 101, 28, 25, 81, 135, 73, 62, 18, 90, 266, 91, 64]\n"
     ]
    }
   ],
   "source": [
    "# Let's check for length of the first 100 documents.\n",
    "# We notice that the length is not uniform.\n",
    "print([len(a) for a in X_train[0:100]])"
   ]
  },
  {
   "cell_type": "code",
   "execution_count": 7,
   "metadata": {},
   "outputs": [],
   "source": [
    "# Download the dictionary to translate the indices.\n",
    "my_dict = get_word_index(path='reuters_word_index.json')"
   ]
  },
  {
   "cell_type": "code",
   "execution_count": 8,
   "metadata": {},
   "outputs": [],
   "source": [
    "# To view the dictionary.\n",
    "# my_dict"
   ]
  },
  {
   "cell_type": "code",
   "execution_count": 9,
   "metadata": {},
   "outputs": [],
   "source": [
    "# Exchange the 'key' and 'value'.\n",
    "my_dict_inv = {v:k for k,v in my_dict.items()}"
   ]
  },
  {
   "cell_type": "code",
   "execution_count": 10,
   "metadata": {},
   "outputs": [
    {
     "name": "stdout",
     "output_type": "stream",
     "text": [
      "the federal gain only growth lt they meeting year reuter company did year an they of of reuter company of of 1987 had of of reuter had profits of pct dlrs\n"
     ]
    }
   ],
   "source": [
    "# Translate each document.\n",
    "i_news = 10                                        # Document number that can be changed at will.\n",
    "news = list(pd.Series(X_train[i_news]).apply(lambda x: my_dict_inv[x]))\n",
    "print(' '.join(news))"
   ]
  },
  {
   "cell_type": "markdown",
   "metadata": {},
   "source": [
    "#### 1.3. Data preprocessing:"
   ]
  },
  {
   "cell_type": "code",
   "execution_count": 11,
   "metadata": {},
   "outputs": [],
   "source": [
    "# Padding: newswire lengths are uniformly matched to maxlen.\n",
    "# Cut away if longer than maxlen and fill with 0s if shorter than maxlen.\n",
    "X_train = sequence.pad_sequences(X_train, maxlen = 100)\n",
    "X_test = sequence.pad_sequences(X_test, maxlen = 100)"
   ]
  },
  {
   "cell_type": "code",
   "execution_count": 12,
   "metadata": {},
   "outputs": [],
   "source": [
    "# Apply one-hot-encoding to the y variable.\n",
    "y = np.concatenate([y_train,y_test],axis=0)\n",
    "y = to_categorical(y,46)\n",
    "y_train = y[:n_train_size,:]\n",
    "y_test = y[n_train_size:,:]"
   ]
  },
  {
   "cell_type": "markdown",
   "metadata": {},
   "source": [
    "#### 1.4. Define the model:"
   ]
  },
  {
   "cell_type": "code",
   "execution_count": 13,
   "metadata": {},
   "outputs": [],
   "source": [
    "n_neurons = 100                   # Neurons within each memory cell.\n",
    "n_input = 100                     # Dimension of the embeding space. "
   ]
  },
  {
   "cell_type": "code",
   "execution_count": 14,
   "metadata": {},
   "outputs": [],
   "source": [
    "# LSTM network model.\n",
    "my_model = Sequential()\n",
    "my_model.add(Embedding(n_words, n_input))           # n_words = vocabulary size, n_input = dimension of the embedding space.\n",
    "my_model.add(LSTM(units=n_neurons, return_sequences=False, input_shape=(None, n_input), activation='tanh'))\n",
    "my_model.add(Dense(n_cat, activation='softmax'))"
   ]
  },
  {
   "cell_type": "code",
   "execution_count": 15,
   "metadata": {},
   "outputs": [
    {
     "name": "stdout",
     "output_type": "stream",
     "text": [
      "Model: \"sequential\"\n",
      "_________________________________________________________________\n",
      " Layer (type)                Output Shape              Param #   \n",
      "=================================================================\n",
      " embedding (Embedding)       (None, None, 100)         100000    \n",
      "                                                                 \n",
      " lstm (LSTM)                 (None, 100)               80400     \n",
      "                                                                 \n",
      " dense (Dense)               (None, 46)                4646      \n",
      "                                                                 \n",
      "=================================================================\n",
      "Total params: 185046 (722.84 KB)\n",
      "Trainable params: 185046 (722.84 KB)\n",
      "Non-trainable params: 0 (0.00 Byte)\n",
      "_________________________________________________________________\n"
     ]
    }
   ],
   "source": [
    "# View the summary.\n",
    "my_model.summary()"
   ]
  },
  {
   "cell_type": "markdown",
   "metadata": {},
   "source": [
    "#### 1.5. Define the optimizer and compile:"
   ]
  },
  {
   "cell_type": "code",
   "execution_count": 16,
   "metadata": {},
   "outputs": [],
   "source": [
    "n_epochs = 20                      # Number of epochs.\n",
    "batch_size = 20                    # Size of each batch.\n",
    "learn_rate = 0.001                 # learning rate.  "
   ]
  },
  {
   "cell_type": "code",
   "execution_count": 17,
   "metadata": {},
   "outputs": [
    {
     "name": "stderr",
     "output_type": "stream",
     "text": [
      "WARNING:absl:At this time, the v2.11+ optimizer `tf.keras.optimizers.Adam` runs slowly on M1/M2 Macs, please use the legacy Keras optimizer instead, located at `tf.keras.optimizers.legacy.Adam`.\n",
      "WARNING:absl:There is a known slowdown when using v2.11+ Keras optimizers on M1/M2 Macs. Falling back to the legacy Keras optimizer, i.e., `tf.keras.optimizers.legacy.Adam`.\n"
     ]
    }
   ],
   "source": [
    "# Optimizer and compilation.\n",
    "my_optimizer=Adam(learning_rate=learn_rate)\n",
    "my_model.compile(loss = \"categorical_crossentropy\", optimizer = my_optimizer, metrics=[\"accuracy\"])"
   ]
  },
  {
   "cell_type": "markdown",
   "metadata": {},
   "source": [
    "#### 1.6. Train the model and visualize the history:"
   ]
  },
  {
   "cell_type": "code",
   "execution_count": 18,
   "metadata": {},
   "outputs": [
    {
     "name": "stdout",
     "output_type": "stream",
     "text": [
      "Epoch 1/20\n",
      "315/315 [==============================] - 14s 42ms/step - loss: 2.3284 - accuracy: 0.4132 - val_loss: 1.9975 - val_accuracy: 0.5089\n",
      "Epoch 2/20\n",
      "315/315 [==============================] - 13s 42ms/step - loss: 1.9720 - accuracy: 0.5106 - val_loss: 1.8312 - val_accuracy: 0.5204\n",
      "Epoch 3/20\n",
      "315/315 [==============================] - 13s 42ms/step - loss: 1.7440 - accuracy: 0.5635 - val_loss: 1.6771 - val_accuracy: 0.5782\n",
      "Epoch 4/20\n",
      "315/315 [==============================] - 13s 42ms/step - loss: 1.5912 - accuracy: 0.5927 - val_loss: 1.5509 - val_accuracy: 0.6183\n",
      "Epoch 5/20\n",
      "315/315 [==============================] - 13s 42ms/step - loss: 1.4196 - accuracy: 0.6356 - val_loss: 1.3899 - val_accuracy: 0.6527\n",
      "Epoch 6/20\n",
      "315/315 [==============================] - 13s 42ms/step - loss: 1.2830 - accuracy: 0.6742 - val_loss: 1.2939 - val_accuracy: 0.6711\n",
      "Epoch 7/20\n",
      "315/315 [==============================] - 13s 42ms/step - loss: 1.1710 - accuracy: 0.7007 - val_loss: 1.2569 - val_accuracy: 0.6858\n",
      "Epoch 8/20\n",
      "315/315 [==============================] - 14s 43ms/step - loss: 1.0747 - accuracy: 0.7223 - val_loss: 1.1898 - val_accuracy: 0.7042\n",
      "Epoch 9/20\n",
      "315/315 [==============================] - 14s 43ms/step - loss: 0.9909 - accuracy: 0.7482 - val_loss: 1.1606 - val_accuracy: 0.7195\n",
      "Epoch 10/20\n",
      "315/315 [==============================] - 13s 43ms/step - loss: 0.9162 - accuracy: 0.7690 - val_loss: 1.1333 - val_accuracy: 0.7296\n",
      "Epoch 11/20\n",
      "315/315 [==============================] - 13s 43ms/step - loss: 0.8378 - accuracy: 0.7842 - val_loss: 1.1509 - val_accuracy: 0.7156\n",
      "Epoch 12/20\n",
      "315/315 [==============================] - 14s 43ms/step - loss: 0.7714 - accuracy: 0.8056 - val_loss: 1.1494 - val_accuracy: 0.7277\n",
      "Epoch 13/20\n",
      "315/315 [==============================] - 14s 43ms/step - loss: 0.7116 - accuracy: 0.8174 - val_loss: 1.1620 - val_accuracy: 0.7322\n",
      "Epoch 14/20\n",
      "315/315 [==============================] - 14s 44ms/step - loss: 0.6544 - accuracy: 0.8298 - val_loss: 1.2327 - val_accuracy: 0.7176\n",
      "Epoch 15/20\n",
      "315/315 [==============================] - 14s 44ms/step - loss: 0.5952 - accuracy: 0.8502 - val_loss: 1.1937 - val_accuracy: 0.7258\n",
      "Epoch 16/20\n",
      "315/315 [==============================] - 14s 44ms/step - loss: 0.5451 - accuracy: 0.8646 - val_loss: 1.2481 - val_accuracy: 0.7207\n",
      "Epoch 17/20\n",
      "315/315 [==============================] - 14s 45ms/step - loss: 0.5025 - accuracy: 0.8729 - val_loss: 1.2698 - val_accuracy: 0.7335\n",
      "Epoch 18/20\n",
      "315/315 [==============================] - 14s 45ms/step - loss: 0.4501 - accuracy: 0.8887 - val_loss: 1.3206 - val_accuracy: 0.7201\n",
      "Epoch 19/20\n",
      "315/315 [==============================] - 14s 45ms/step - loss: 0.4095 - accuracy: 0.8982 - val_loss: 1.3776 - val_accuracy: 0.7246\n",
      "Epoch 20/20\n",
      "315/315 [==============================] - 14s 45ms/step - loss: 0.3680 - accuracy: 0.9141 - val_loss: 1.4277 - val_accuracy: 0.7233\n"
     ]
    }
   ],
   "source": [
    "my_summary = my_model.fit(X_train, y_train, epochs=n_epochs, batch_size = batch_size, validation_split=0.2, verbose = 1)"
   ]
  },
  {
   "cell_type": "code",
   "execution_count": 19,
   "metadata": {},
   "outputs": [
    {
     "data": {
      "image/png": "[encoded data removed]",
      "text/plain": [
       "<Figure size 640x480 with 1 Axes>"
      ]
     },
     "metadata": {},
     "output_type": "display_data"
    }
   ],
   "source": [
    "plt.plot(my_summary.history['accuracy'], c=\"b\")\n",
    "plt.plot(my_summary.history['val_accuracy'], c=\"g\")\n",
    "plt.title('Training History')\n",
    "plt.ylabel('Accuracy')\n",
    "plt.xlabel('Epoch')\n",
    "plt.legend(['Train', 'Validation'], loc='lower right')\n",
    "plt.show()"
   ]
  },
  {
   "cell_type": "markdown",
   "metadata": {},
   "source": [
    "#### 1.7. Testing: "
   ]
  },
  {
   "cell_type": "code",
   "execution_count": 20,
   "metadata": {},
   "outputs": [
    {
     "name": "stdout",
     "output_type": "stream",
     "text": [
      "Test Accuracy : 0.702\n"
     ]
    }
   ],
   "source": [
    "ACC = my_model.evaluate(X_test, y_test, verbose=0)[1]    \n",
    "print(\"Test Accuracy : {}\".format(np.round(ACC,3)))"
   ]
  },
  {
   "cell_type": "code",
   "execution_count": null,
   "metadata": {},
   "outputs": [],
   "source": []
  }
 ],
 "metadata": {
  "kernelspec": {
   "display_name": "Python 3 (ipykernel)",
   "language": "python",
   "name": "python3"
  },
  "language_info": {
   "codemirror_mode": {
    "name": "ipython",
    "version": 3
   },
   "file_extension": ".py",
   "mimetype": "text/x-python",
   "name": "python",
   "nbconvert_exporter": "python",
   "pygments_lexer": "ipython3",
   "version": "3.10.11"
  }
 },
 "nbformat": 4,
 "nbformat_minor": 2
}
